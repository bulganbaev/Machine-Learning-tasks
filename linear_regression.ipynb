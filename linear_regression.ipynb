{
 "cells": [
  {
   "cell_type": "code",
   "execution_count": 40,
   "metadata": {},
   "outputs": [],
   "source": [
    "import numpy as np\n",
    "from math import sqrt\n",
    "import matplotlib.pyplot as plt"
   ]
  },
  {
   "cell_type": "code",
   "execution_count": 20,
   "metadata": {},
   "outputs": [],
   "source": [
    "x = np.array([82, 62, 74, 78, 93, 89, 90])\n",
    "y = np.array([69, 71, 69, 76, 87, 75, 92])\n",
    "size = x.size"
   ]
  },
  {
   "cell_type": "code",
   "execution_count": 29,
   "metadata": {},
   "outputs": [],
   "source": [
    "x_sq = x ** 2\n",
    "y_sq = y ** 2\n",
    "xy = x * y"
   ]
  },
  {
   "cell_type": "code",
   "execution_count": 30,
   "metadata": {},
   "outputs": [],
   "source": [
    "x_avg = x.sum() / size\n",
    "y_avg = y.sum() / size\n",
    "\n",
    "var_x = (x_sq.sum() / size) - (x_avg * x_avg)\n",
    "var_y = (y_sq.sum() / size) - (y_avg * y_avg)"
   ]
  },
  {
   "cell_type": "code",
   "execution_count": 31,
   "metadata": {},
   "outputs": [],
   "source": [
    "cov_xy = (xy.sum() / size) - (x_avg * y_avg)\n",
    "a = cov_xy / var_x\n",
    "b = y_avg - a * x_avg"
   ]
  },
  {
   "cell_type": "code",
   "execution_count": 32,
   "metadata": {},
   "outputs": [],
   "source": [
    "y_tilda = lambda x: a * x + b    "
   ]
  },
  {
   "cell_type": "code",
   "execution_count": 33,
   "metadata": {},
   "outputs": [],
   "source": [
    "r = cov_xy / sqrt(var_x * var_y)"
   ]
  },
  {
   "cell_type": "code",
   "execution_count": 48,
   "metadata": {},
   "outputs": [],
   "source": [
    "y_graph = []\n",
    "SSR, SST = 0, 0\n",
    "for i in range(size):\n",
    "    y_graph.append(y_tilda(x[i]))\n",
    "    SSR = SSR + (y_tilda(x[i]) - y_avg) ** 2;\n",
    "    SST = SST + (y[i] - y_avg) ** 2;\n",
    "R2 = SSR / SST"
   ]
  },
  {
   "cell_type": "code",
   "execution_count": 55,
   "metadata": {},
   "outputs": [
    {
     "data": {
      "text/plain": [
       "[<matplotlib.lines.Line2D at 0x10e99f0b8>]"
      ]
     },
     "execution_count": 55,
     "metadata": {},
     "output_type": "execute_result"
    },
    {
     "data": {
      "image/png": "[encoded data removed]",
      "text/plain": [
       "<Figure size 432x288 with 1 Axes>"
      ]
     },
     "metadata": {},
     "output_type": "display_data"
    }
   ],
   "source": [
    "plt.plot(x, y, 'ro', color = 'r')\n",
    "plt.plot(x, y_graph, color = 'b', label = 'Linear Regression')\n"
   ]
  },
  {
   "cell_type": "code",
   "execution_count": null,
   "metadata": {},
   "outputs": [],
   "source": []
  }
 ],
 "metadata": {
  "kernelspec": {
   "display_name": "Python 3",
   "language": "python",
   "name": "python3"
  },
  "language_info": {
   "codemirror_mode": {
    "name": "ipython",
    "version": 3
   },
   "file_extension": ".py",
   "mimetype": "text/x-python",
   "name": "python",
   "nbconvert_exporter": "python",
   "pygments_lexer": "ipython3",
   "version": "3.6.5"
  }
 },
 "nbformat": 4,
 "nbformat_minor": 2
}
