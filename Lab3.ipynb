{
 "cells": [
  {
   "cell_type": "markdown",
   "metadata": {},
   "source": [
    "# Лабораторная работа 3. Pandas, метод ближайших соседей и решающие деревья."
   ]
  },
  {
   "cell_type": "markdown",
   "metadata": {},
   "source": []
  },
  {
   "cell_type": "code",
   "execution_count": 4,
   "metadata": {},
   "outputs": [],
   "source": [
    "import numpy as np\n",
    "import pandas as pd"
   ]
  },
  {
   "cell_type": "markdown",
   "metadata": {},
   "source": [
    "## Часть 1: Pandas"
   ]
  },
  {
   "cell_type": "markdown",
   "metadata": {},
   "source": [
    "#### Ответьте на вопросы о данных по авиарейсам в США.\n",
    "\n",
    "Данные: http://stat-computing.org/dataexpo/2009/2008.csv.bz2\n",
    "(обратите внимание, что распаковывать этот файл не обязательно — функция `pandas.read_csv` умеет читать из архивов автоматически)\n",
    "\n",
    "Описание: http://stat-computing.org/dataexpo/2009/the-data.html\n",
    "\n",
    "1. Какая из причин отмены рейса (`CancellationCode`) была самой частой? (расшифровки кодов можно найти в описании данных)\n",
    "2. Найдите среднее, минимальное и максимальное расстояние, пройденное самолетом.\n",
    "3. Не выглядит ли подозрительным минимальное пройденное расстояние? В какие дни и на каких рейсах оно было? Какое расстояние было пройдено этими же рейсами в другие дни?\n",
    "4. Из какого аэропорта было произведено больше всего вылетов? В каком городе он находится?\n",
    "5. Найдите для каждого аэропорта среднее время полета (`AirTime`) по всем вылетевшим из него рейсам. Какой аэропорт имеет наибольшее значение этого показателя?\n",
    "6. Найдите аэропорт, у которого наибольшая доля задержанных (`DepDelay > 0`) рейсов. Исключите при этом из рассмотрения аэропорты, из которых было отправлено меньше 1000 рейсов (используйте функцию `filter` после `groupby`)."
   ]
  },
  {
   "cell_type": "code",
   "execution_count": 5,
   "metadata": {
    "scrolled": true
   },
   "outputs": [
    {
     "data": {
      "text/html": [
       "<div>\n",
       "<style scoped>\n",
       "    .dataframe tbody tr th:only-of-type {\n",
       "        vertical-align: middle;\n",
       "    }\n",
       "\n",
       "    .dataframe tbody tr th {\n",
       "        vertical-align: top;\n",
       "    }\n",
       "\n",
       "    .dataframe thead th {\n",
       "        text-align: right;\n",
       "    }\n",
       "</style>\n",
       "<table border=\"1\" class=\"dataframe\">\n",
       "  <thead>\n",
       "    <tr style=\"text-align: right;\">\n",
       "      <th></th>\n",
       "      <th>Year</th>\n",
       "      <th>Month</th>\n",
       "      <th>DayofMonth</th>\n",
       "      <th>DayOfWeek</th>\n",
       "      <th>DepTime</th>\n",
       "      <th>CRSDepTime</th>\n",
       "      <th>ArrTime</th>\n",
       "      <th>CRSArrTime</th>\n",
       "      <th>FlightNum</th>\n",
       "      <th>ActualElapsedTime</th>\n",
       "      <th>...</th>\n",
       "      <th>Distance</th>\n",
       "      <th>TaxiIn</th>\n",
       "      <th>TaxiOut</th>\n",
       "      <th>Cancelled</th>\n",
       "      <th>Diverted</th>\n",
       "      <th>CarrierDelay</th>\n",
       "      <th>WeatherDelay</th>\n",
       "      <th>NASDelay</th>\n",
       "      <th>SecurityDelay</th>\n",
       "      <th>LateAircraftDelay</th>\n",
       "    </tr>\n",
       "  </thead>\n",
       "  <tbody>\n",
       "    <tr>\n",
       "      <th>count</th>\n",
       "      <td>1048575.0</td>\n",
       "      <td>1.048575e+06</td>\n",
       "      <td>1.048575e+06</td>\n",
       "      <td>1.048575e+06</td>\n",
       "      <td>1.014612e+06</td>\n",
       "      <td>1.048575e+06</td>\n",
       "      <td>1.011963e+06</td>\n",
       "      <td>1.048575e+06</td>\n",
       "      <td>1.048575e+06</td>\n",
       "      <td>1.011963e+06</td>\n",
       "      <td>...</td>\n",
       "      <td>1.048575e+06</td>\n",
       "      <td>1.011963e+06</td>\n",
       "      <td>1.014612e+06</td>\n",
       "      <td>1.048575e+06</td>\n",
       "      <td>1.048575e+06</td>\n",
       "      <td>270096.000000</td>\n",
       "      <td>270096.000000</td>\n",
       "      <td>270096.000000</td>\n",
       "      <td>270096.000000</td>\n",
       "      <td>270096.000000</td>\n",
       "    </tr>\n",
       "    <tr>\n",
       "      <th>mean</th>\n",
       "      <td>2008.0</td>\n",
       "      <td>1.422297e+00</td>\n",
       "      <td>1.572409e+01</td>\n",
       "      <td>3.895182e+00</td>\n",
       "      <td>1.343447e+03</td>\n",
       "      <td>1.331361e+03</td>\n",
       "      <td>1.489051e+03</td>\n",
       "      <td>1.497376e+03</td>\n",
       "      <td>2.359956e+03</td>\n",
       "      <td>1.244470e+02</td>\n",
       "      <td>...</td>\n",
       "      <td>6.881744e+02</td>\n",
       "      <td>6.825616e+00</td>\n",
       "      <td>1.678146e+01</td>\n",
       "      <td>3.238967e-02</td>\n",
       "      <td>2.526286e-03</td>\n",
       "      <td>15.708015</td>\n",
       "      <td>3.254199</td>\n",
       "      <td>15.878591</td>\n",
       "      <td>0.083955</td>\n",
       "      <td>21.974676</td>\n",
       "    </tr>\n",
       "    <tr>\n",
       "      <th>std</th>\n",
       "      <td>0.0</td>\n",
       "      <td>4.939256e-01</td>\n",
       "      <td>8.728132e+00</td>\n",
       "      <td>1.938000e+00</td>\n",
       "      <td>4.768043e+02</td>\n",
       "      <td>4.625290e+02</td>\n",
       "      <td>5.027085e+02</td>\n",
       "      <td>4.791596e+02</td>\n",
       "      <td>1.989882e+03</td>\n",
       "      <td>6.770997e+01</td>\n",
       "      <td>...</td>\n",
       "      <td>5.361000e+02</td>\n",
       "      <td>4.890826e+00</td>\n",
       "      <td>1.116645e+01</td>\n",
       "      <td>1.770328e-01</td>\n",
       "      <td>5.019866e-02</td>\n",
       "      <td>39.385498</td>\n",
       "      <td>20.354545</td>\n",
       "      <td>31.174628</td>\n",
       "      <td>1.728502</td>\n",
       "      <td>39.753498</td>\n",
       "    </tr>\n",
       "    <tr>\n",
       "      <th>min</th>\n",
       "      <td>2008.0</td>\n",
       "      <td>1.000000e+00</td>\n",
       "      <td>1.000000e+00</td>\n",
       "      <td>1.000000e+00</td>\n",
       "      <td>1.000000e+00</td>\n",
       "      <td>0.000000e+00</td>\n",
       "      <td>1.000000e+00</td>\n",
       "      <td>1.000000e+00</td>\n",
       "      <td>1.000000e+00</td>\n",
       "      <td>1.500000e+01</td>\n",
       "      <td>...</td>\n",
       "      <td>2.400000e+01</td>\n",
       "      <td>0.000000e+00</td>\n",
       "      <td>0.000000e+00</td>\n",
       "      <td>0.000000e+00</td>\n",
       "      <td>0.000000e+00</td>\n",
       "      <td>0.000000</td>\n",
       "      <td>0.000000</td>\n",
       "      <td>0.000000</td>\n",
       "      <td>0.000000</td>\n",
       "      <td>0.000000</td>\n",
       "    </tr>\n",
       "    <tr>\n",
       "      <th>25%</th>\n",
       "      <td>2008.0</td>\n",
       "      <td>1.000000e+00</td>\n",
       "      <td>8.000000e+00</td>\n",
       "      <td>2.000000e+00</td>\n",
       "      <td>9.350000e+02</td>\n",
       "      <td>9.300000e+02</td>\n",
       "      <td>1.114000e+03</td>\n",
       "      <td>1.119000e+03</td>\n",
       "      <td>6.690000e+02</td>\n",
       "      <td>7.600000e+01</td>\n",
       "      <td>...</td>\n",
       "      <td>3.130000e+02</td>\n",
       "      <td>4.000000e+00</td>\n",
       "      <td>1.000000e+01</td>\n",
       "      <td>0.000000e+00</td>\n",
       "      <td>0.000000e+00</td>\n",
       "      <td>0.000000</td>\n",
       "      <td>0.000000</td>\n",
       "      <td>0.000000</td>\n",
       "      <td>0.000000</td>\n",
       "      <td>0.000000</td>\n",
       "    </tr>\n",
       "    <tr>\n",
       "      <th>50%</th>\n",
       "      <td>2008.0</td>\n",
       "      <td>1.000000e+00</td>\n",
       "      <td>1.600000e+01</td>\n",
       "      <td>4.000000e+00</td>\n",
       "      <td>1.334000e+03</td>\n",
       "      <td>1.325000e+03</td>\n",
       "      <td>1.518000e+03</td>\n",
       "      <td>1.520000e+03</td>\n",
       "      <td>1.660000e+03</td>\n",
       "      <td>1.070000e+02</td>\n",
       "      <td>...</td>\n",
       "      <td>5.430000e+02</td>\n",
       "      <td>6.000000e+00</td>\n",
       "      <td>1.400000e+01</td>\n",
       "      <td>0.000000e+00</td>\n",
       "      <td>0.000000e+00</td>\n",
       "      <td>0.000000</td>\n",
       "      <td>0.000000</td>\n",
       "      <td>4.000000</td>\n",
       "      <td>0.000000</td>\n",
       "      <td>0.000000</td>\n",
       "    </tr>\n",
       "    <tr>\n",
       "      <th>75%</th>\n",
       "      <td>2008.0</td>\n",
       "      <td>2.000000e+00</td>\n",
       "      <td>2.300000e+01</td>\n",
       "      <td>5.000000e+00</td>\n",
       "      <td>1.733000e+03</td>\n",
       "      <td>1.720000e+03</td>\n",
       "      <td>1.912000e+03</td>\n",
       "      <td>1.908000e+03</td>\n",
       "      <td>3.818000e+03</td>\n",
       "      <td>1.530000e+02</td>\n",
       "      <td>...</td>\n",
       "      <td>8.990000e+02</td>\n",
       "      <td>8.000000e+00</td>\n",
       "      <td>2.000000e+01</td>\n",
       "      <td>0.000000e+00</td>\n",
       "      <td>0.000000e+00</td>\n",
       "      <td>16.000000</td>\n",
       "      <td>0.000000</td>\n",
       "      <td>20.000000</td>\n",
       "      <td>0.000000</td>\n",
       "      <td>28.000000</td>\n",
       "    </tr>\n",
       "    <tr>\n",
       "      <th>max</th>\n",
       "      <td>2008.0</td>\n",
       "      <td>2.000000e+00</td>\n",
       "      <td>3.100000e+01</td>\n",
       "      <td>7.000000e+00</td>\n",
       "      <td>2.400000e+03</td>\n",
       "      <td>2.359000e+03</td>\n",
       "      <td>2.400000e+03</td>\n",
       "      <td>2.400000e+03</td>\n",
       "      <td>9.202000e+03</td>\n",
       "      <td>6.930000e+02</td>\n",
       "      <td>...</td>\n",
       "      <td>4.962000e+03</td>\n",
       "      <td>2.130000e+02</td>\n",
       "      <td>3.830000e+02</td>\n",
       "      <td>1.000000e+00</td>\n",
       "      <td>1.000000e+00</td>\n",
       "      <td>1455.000000</td>\n",
       "      <td>1049.000000</td>\n",
       "      <td>1357.000000</td>\n",
       "      <td>149.000000</td>\n",
       "      <td>1143.000000</td>\n",
       "    </tr>\n",
       "  </tbody>\n",
       "</table>\n",
       "<p>8 rows × 24 columns</p>\n",
       "</div>"
      ],
      "text/plain": [
       "            Year         Month    DayofMonth     DayOfWeek       DepTime  \\\n",
       "count  1048575.0  1.048575e+06  1.048575e+06  1.048575e+06  1.014612e+06   \n",
       "mean      2008.0  1.422297e+00  1.572409e+01  3.895182e+00  1.343447e+03   \n",
       "std          0.0  4.939256e-01  8.728132e+00  1.938000e+00  4.768043e+02   \n",
       "min       2008.0  1.000000e+00  1.000000e+00  1.000000e+00  1.000000e+00   \n",
       "25%       2008.0  1.000000e+00  8.000000e+00  2.000000e+00  9.350000e+02   \n",
       "50%       2008.0  1.000000e+00  1.600000e+01  4.000000e+00  1.334000e+03   \n",
       "75%       2008.0  2.000000e+00  2.300000e+01  5.000000e+00  1.733000e+03   \n",
       "max       2008.0  2.000000e+00  3.100000e+01  7.000000e+00  2.400000e+03   \n",
       "\n",
       "         CRSDepTime       ArrTime    CRSArrTime     FlightNum  \\\n",
       "count  1.048575e+06  1.011963e+06  1.048575e+06  1.048575e+06   \n",
       "mean   1.331361e+03  1.489051e+03  1.497376e+03  2.359956e+03   \n",
       "std    4.625290e+02  5.027085e+02  4.791596e+02  1.989882e+03   \n",
       "min    0.000000e+00  1.000000e+00  1.000000e+00  1.000000e+00   \n",
       "25%    9.300000e+02  1.114000e+03  1.119000e+03  6.690000e+02   \n",
       "50%    1.325000e+03  1.518000e+03  1.520000e+03  1.660000e+03   \n",
       "75%    1.720000e+03  1.912000e+03  1.908000e+03  3.818000e+03   \n",
       "max    2.359000e+03  2.400000e+03  2.400000e+03  9.202000e+03   \n",
       "\n",
       "       ActualElapsedTime        ...              Distance        TaxiIn  \\\n",
       "count       1.011963e+06        ...          1.048575e+06  1.011963e+06   \n",
       "mean        1.244470e+02        ...          6.881744e+02  6.825616e+00   \n",
       "std         6.770997e+01        ...          5.361000e+02  4.890826e+00   \n",
       "min         1.500000e+01        ...          2.400000e+01  0.000000e+00   \n",
       "25%         7.600000e+01        ...          3.130000e+02  4.000000e+00   \n",
       "50%         1.070000e+02        ...          5.430000e+02  6.000000e+00   \n",
       "75%         1.530000e+02        ...          8.990000e+02  8.000000e+00   \n",
       "max         6.930000e+02        ...          4.962000e+03  2.130000e+02   \n",
       "\n",
       "            TaxiOut     Cancelled      Diverted   CarrierDelay   WeatherDelay  \\\n",
       "count  1.014612e+06  1.048575e+06  1.048575e+06  270096.000000  270096.000000   \n",
       "mean   1.678146e+01  3.238967e-02  2.526286e-03      15.708015       3.254199   \n",
       "std    1.116645e+01  1.770328e-01  5.019866e-02      39.385498      20.354545   \n",
       "min    0.000000e+00  0.000000e+00  0.000000e+00       0.000000       0.000000   \n",
       "25%    1.000000e+01  0.000000e+00  0.000000e+00       0.000000       0.000000   \n",
       "50%    1.400000e+01  0.000000e+00  0.000000e+00       0.000000       0.000000   \n",
       "75%    2.000000e+01  0.000000e+00  0.000000e+00      16.000000       0.000000   \n",
       "max    3.830000e+02  1.000000e+00  1.000000e+00    1455.000000    1049.000000   \n",
       "\n",
       "            NASDelay  SecurityDelay  LateAircraftDelay  \n",
       "count  270096.000000  270096.000000      270096.000000  \n",
       "mean       15.878591       0.083955          21.974676  \n",
       "std        31.174628       1.728502          39.753498  \n",
       "min         0.000000       0.000000           0.000000  \n",
       "25%         0.000000       0.000000           0.000000  \n",
       "50%         4.000000       0.000000           0.000000  \n",
       "75%        20.000000       0.000000          28.000000  \n",
       "max      1357.000000     149.000000        1143.000000  \n",
       "\n",
       "[8 rows x 24 columns]"
      ]
     },
     "execution_count": 5,
     "metadata": {},
     "output_type": "execute_result"
    }
   ],
   "source": [
    "data = pd.read_csv(\"2008.txt\")\n",
    "data.describe()"
   ]
  },
  {
   "cell_type": "code",
   "execution_count": 6,
   "metadata": {},
   "outputs": [
    {
     "name": "stdout",
     "output_type": "stream",
     "text": [
      "B    14597\n",
      "A    11519\n",
      "C     7845\n",
      "D        2\n",
      "Name: CancellationCode, dtype: int64\n"
     ]
    },
    {
     "data": {
      "text/plain": [
       "'B is largest'"
      ]
     },
     "execution_count": 6,
     "metadata": {},
     "output_type": "execute_result"
    }
   ],
   "source": [
    "'''Самая частая причина отмены рейсов'''\n",
    "canc=data['CancellationCode'].value_counts()\n",
    "print(canc)\n",
    "'''B is largest'''"
   ]
  },
  {
   "cell_type": "code",
   "execution_count": 7,
   "metadata": {},
   "outputs": [
    {
     "name": "stdout",
     "output_type": "stream",
     "text": [
      "688.1743785613809\n",
      "24\n",
      "4962\n"
     ]
    }
   ],
   "source": [
    "'''Average,min,max distance'''\n",
    "avr=data['Distance'].mean()\n",
    "print(avr)\n",
    "min=data['Distance'].min()\n",
    "print(min)\n",
    "max=data['Distance'].max()\n",
    "print(max)"
   ]
  },
  {
   "cell_type": "code",
   "execution_count": 8,
   "metadata": {},
   "outputs": [
    {
     "name": "stdout",
     "output_type": "stream",
     "text": [
      "Year: 2008\n",
      "Month: 1\n",
      "Day: 2\n",
      "Расстояние которое было пройдено этими же рейсами в другие дни\n",
      "613\n",
      " 24\n",
      "613\n",
      "613\n",
      "613\n",
      "613\n",
      "613\n",
      "613\n",
      "613\n",
      "613\n",
      "613\n",
      "613\n",
      "613\n",
      "613\n",
      "613\n",
      "613\n",
      "613\n",
      "613\n",
      "613\n",
      "613\n",
      "613\n",
      "613\n",
      "613\n",
      "613\n",
      "613\n",
      "613\n",
      "613\n",
      "284\n",
      "284\n",
      "284\n",
      "284\n",
      "284\n",
      "284\n",
      "284\n",
      "284\n",
      "284\n",
      "284\n",
      "284\n",
      "284\n",
      "284\n",
      "284\n",
      "284\n",
      "284\n",
      "284\n",
      "284\n",
      "284\n",
      "284\n",
      "284\n",
      "284\n",
      "284\n",
      "284\n",
      "284\n",
      "284\n",
      "284\n",
      "284\n",
      "284\n",
      "284\n",
      "284\n",
      "979\n",
      "979\n",
      "979\n",
      "979\n",
      "979\n",
      "979\n",
      "408\n",
      "408\n",
      "408\n",
      "408\n",
      "408\n",
      "408\n",
      "408\n",
      "408\n",
      "408\n",
      "408\n",
      "408\n",
      "408\n",
      "408\n",
      "408\n",
      "408\n",
      "408\n",
      "408\n",
      "408\n",
      "408\n",
      "408\n",
      "408\n",
      "408\n",
      "408\n",
      "408\n",
      "408\n",
      "613\n",
      "613\n",
      "613\n",
      "613\n",
      "613\n",
      "613\n",
      "613\n",
      "613\n",
      "613\n",
      "613\n",
      "613\n",
      "613\n",
      "613\n",
      "613\n",
      "613\n",
      "613\n",
      "613\n",
      "613\n",
      "613\n",
      "613\n",
      "613\n",
      "613\n",
      "613\n",
      "613\n",
      "284\n",
      "284\n",
      "284\n",
      "284\n",
      "284\n",
      "284\n",
      "284\n",
      "284\n",
      "284\n",
      "284\n",
      "284\n",
      "284\n",
      "284\n",
      "408\n",
      "408\n",
      "408\n",
      "408\n",
      "408\n",
      "408\n",
      "408\n",
      "408\n",
      "408\n",
      "408\n",
      "408\n",
      "408\n",
      "408\n"
     ]
    }
   ],
   "source": [
    "'''Min distance information'''\n",
    "minDist=data.loc[data['Distance']==min]\n",
    "year=int(minDist['Year'].to_string(index=False))\n",
    "month=int(minDist['Month'].to_string(index=False))\n",
    "day=int(minDist['DayofMonth'].to_string(index=False))\n",
    "flightnum=int(minDist['FlightNum'].to_string(index=False))\n",
    "print(\"Year:\",year)\n",
    "print(\"Month:\",month)\n",
    "print(\"Day:\",day)\n",
    "\n",
    "number=data.loc[data['FlightNum']==flightnum]\n",
    "\n",
    "distances=number['Distance'].to_string(index=False)\n",
    "print(\"Расстояние которое было пройдено этими же рейсами в другие дни\")\n",
    "print(distances)"
   ]
  },
  {
   "cell_type": "code",
   "execution_count": 9,
   "metadata": {},
   "outputs": [
    {
     "data": {
      "text/plain": [
       "'ATL'"
      ]
     },
     "execution_count": 9,
     "metadata": {},
     "output_type": "execute_result"
    }
   ],
   "source": [
    "'''Из какого аэропорта было произведено больше всего вылетов'''\n",
    "data['Origin'].mode().to_string(index=False)"
   ]
  },
  {
   "cell_type": "code",
   "execution_count": 10,
   "metadata": {},
   "outputs": [
    {
     "name": "stdout",
     "output_type": "stream",
     "text": [
      "Origin\n",
      "ABE     93.364771\n",
      "ABI     36.531111\n",
      "ABQ     90.510244\n",
      "ABY     34.964646\n",
      "ACT     30.509044\n",
      "ACV     54.780488\n",
      "ACY    110.741379\n",
      "ADK    144.111111\n",
      "ADQ     41.875000\n",
      "AEX     69.689744\n",
      "AGS     39.360465\n",
      "ALB    105.704607\n",
      "ALO     36.111111\n",
      "AMA     55.697302\n",
      "ANC    144.357345\n",
      "ASE     59.554828\n",
      "ATL     93.787326\n",
      "ATW     61.966616\n",
      "AUS     95.830714\n",
      "AVL     78.154008\n",
      "AVP    101.883333\n",
      "AZO     37.080925\n",
      "BDL    119.942156\n",
      "BET     55.865854\n",
      "BFL     64.077437\n",
      "BGM     69.412844\n",
      "BGR    108.115385\n",
      "BHM     85.062088\n",
      "BIL     69.914956\n",
      "BIS     67.721805\n",
      "          ...    \n",
      "SPI     48.483740\n",
      "SPS     29.945170\n",
      "SRQ    107.288889\n",
      "STL     97.555886\n",
      "STT    164.979021\n",
      "STX    179.022727\n",
      "SUN     47.413965\n",
      "SUX     44.882353\n",
      "SWF    137.717421\n",
      "SYR     85.776954\n",
      "TEX     93.413333\n",
      "TLH     70.629545\n",
      "TOL     57.490196\n",
      "TPA    118.624913\n",
      "TRI     49.141509\n",
      "TUL     83.792765\n",
      "TUP     42.900000\n",
      "TUS     89.057823\n",
      "TVC     47.438492\n",
      "TWF     42.261614\n",
      "TXK     47.678571\n",
      "TYR     31.864286\n",
      "TYS     86.481397\n",
      "VLD     45.037975\n",
      "VPS     76.749067\n",
      "WRG     18.178571\n",
      "XNA     87.454632\n",
      "YAK     36.714286\n",
      "YKM     82.069444\n",
      "YUM     48.990196\n",
      "Name: AirTime, Length: 286, dtype: float64\n",
      "Largest: Origin\n",
      "SJU    212.822686\n",
      "Name: AirTime, dtype: float64\n"
     ]
    }
   ],
   "source": [
    "'''Найдите для каждого аэропорта среднее время полета (AirTime) по всем вылетевшим из него рейсам. Какой аэропорт имеет наибольшее значение этого показателя?'''\n",
    "means=data.groupby('Origin').AirTime.mean()\n",
    "print(means)\n",
    "print(\"Largest:\",means.nlargest(1))"
   ]
  },
  {
   "cell_type": "code",
   "execution_count": null,
   "metadata": {
    "scrolled": true
   },
   "outputs": [],
   "source": [
    "'''Найдите аэропорт, у которого наибольшая доля задержанных (DepDelay > 0) рейсов. Исключите при этом из рассмотрения аэропорты, из которых было отправлено меньше 1000 рейсов (используйте функцию filter после groupby).'''\n",
    "delays = data.groupby(\"Origin\")['DepDelay']\n",
    "filtered = data[data.DepDelay > 0].groupby(\"Origin\")['DepDelay']\n",
    "(filtered.count() / data.count() * (data.count() >= 1000)).argmax()"
   ]
  },
  {
   "cell_type": "markdown",
   "metadata": {},
   "source": [
    "## Часть 2: метрические методы и категориальные признаки"
   ]
  },
  {
   "cell_type": "code",
   "execution_count": 22,
   "metadata": {},
   "outputs": [],
   "source": [
    "import numpy as np\n",
    "import pandas as pd"
   ]
  },
  {
   "cell_type": "markdown",
   "metadata": {},
   "source": [
    "Все дальнейшие эксперименты предлагается проводить на данных соревнования Amazon Employee Access Challenge: https://www.kaggle.com/c/amazon-employee-access-challenge\n",
    "\n",
    "В данной задаче предлагается предсказать, будет ли одобрен запрос сотрудника на получение доступа к тому или иному ресурсу. Все признаки являются категориальными.\n",
    "\n",
    "Для удобства данные можно загрузить по ссылке: https://www.dropbox.com/s/q6fbs1vvhd5kvek/amazon.csv\n",
    "\n",
    "Сразу прочитаем данные и создадим разбиение на обучение и контроль:"
   ]
  },
  {
   "cell_type": "code",
   "execution_count": 23,
   "metadata": {},
   "outputs": [
    {
     "data": {
      "text/html": [
       "<div>\n",
       "<style scoped>\n",
       "    .dataframe tbody tr th:only-of-type {\n",
       "        vertical-align: middle;\n",
       "    }\n",
       "\n",
       "    .dataframe tbody tr th {\n",
       "        vertical-align: top;\n",
       "    }\n",
       "\n",
       "    .dataframe thead th {\n",
       "        text-align: right;\n",
       "    }\n",
       "</style>\n",
       "<table border=\"1\" class=\"dataframe\">\n",
       "  <thead>\n",
       "    <tr style=\"text-align: right;\">\n",
       "      <th></th>\n",
       "      <th>ACTION</th>\n",
       "      <th>RESOURCE</th>\n",
       "      <th>MGR_ID</th>\n",
       "      <th>ROLE_ROLLUP_1</th>\n",
       "      <th>ROLE_ROLLUP_2</th>\n",
       "      <th>ROLE_DEPTNAME</th>\n",
       "      <th>ROLE_TITLE</th>\n",
       "      <th>ROLE_FAMILY_DESC</th>\n",
       "      <th>ROLE_FAMILY</th>\n",
       "      <th>ROLE_CODE</th>\n",
       "    </tr>\n",
       "  </thead>\n",
       "  <tbody>\n",
       "    <tr>\n",
       "      <th>0</th>\n",
       "      <td>1</td>\n",
       "      <td>39353</td>\n",
       "      <td>85475</td>\n",
       "      <td>117961</td>\n",
       "      <td>118300</td>\n",
       "      <td>123472</td>\n",
       "      <td>117905</td>\n",
       "      <td>117906</td>\n",
       "      <td>290919</td>\n",
       "      <td>117908</td>\n",
       "    </tr>\n",
       "    <tr>\n",
       "      <th>1</th>\n",
       "      <td>1</td>\n",
       "      <td>17183</td>\n",
       "      <td>1540</td>\n",
       "      <td>117961</td>\n",
       "      <td>118343</td>\n",
       "      <td>123125</td>\n",
       "      <td>118536</td>\n",
       "      <td>118536</td>\n",
       "      <td>308574</td>\n",
       "      <td>118539</td>\n",
       "    </tr>\n",
       "    <tr>\n",
       "      <th>2</th>\n",
       "      <td>1</td>\n",
       "      <td>36724</td>\n",
       "      <td>14457</td>\n",
       "      <td>118219</td>\n",
       "      <td>118220</td>\n",
       "      <td>117884</td>\n",
       "      <td>117879</td>\n",
       "      <td>267952</td>\n",
       "      <td>19721</td>\n",
       "      <td>117880</td>\n",
       "    </tr>\n",
       "    <tr>\n",
       "      <th>3</th>\n",
       "      <td>1</td>\n",
       "      <td>36135</td>\n",
       "      <td>5396</td>\n",
       "      <td>117961</td>\n",
       "      <td>118343</td>\n",
       "      <td>119993</td>\n",
       "      <td>118321</td>\n",
       "      <td>240983</td>\n",
       "      <td>290919</td>\n",
       "      <td>118322</td>\n",
       "    </tr>\n",
       "    <tr>\n",
       "      <th>4</th>\n",
       "      <td>1</td>\n",
       "      <td>42680</td>\n",
       "      <td>5905</td>\n",
       "      <td>117929</td>\n",
       "      <td>117930</td>\n",
       "      <td>119569</td>\n",
       "      <td>119323</td>\n",
       "      <td>123932</td>\n",
       "      <td>19793</td>\n",
       "      <td>119325</td>\n",
       "    </tr>\n",
       "  </tbody>\n",
       "</table>\n",
       "</div>"
      ],
      "text/plain": [
       "   ACTION  RESOURCE  MGR_ID  ROLE_ROLLUP_1  ROLE_ROLLUP_2  ROLE_DEPTNAME  \\\n",
       "0       1     39353   85475         117961         118300         123472   \n",
       "1       1     17183    1540         117961         118343         123125   \n",
       "2       1     36724   14457         118219         118220         117884   \n",
       "3       1     36135    5396         117961         118343         119993   \n",
       "4       1     42680    5905         117929         117930         119569   \n",
       "\n",
       "   ROLE_TITLE  ROLE_FAMILY_DESC  ROLE_FAMILY  ROLE_CODE  \n",
       "0      117905            117906       290919     117908  \n",
       "1      118536            118536       308574     118539  \n",
       "2      117879            267952        19721     117880  \n",
       "3      118321            240983       290919     118322  \n",
       "4      119323            123932        19793     119325  "
      ]
     },
     "execution_count": 23,
     "metadata": {},
     "output_type": "execute_result"
    }
   ],
   "source": [
    "data = pd.read_csv('amazon.csv')\n",
    "data.head()"
   ]
  },
  {
   "cell_type": "code",
   "execution_count": 24,
   "metadata": {},
   "outputs": [
    {
     "data": {
      "text/plain": [
       "(32769, 10)"
      ]
     },
     "execution_count": 24,
     "metadata": {},
     "output_type": "execute_result"
    }
   ],
   "source": [
    "data.shape"
   ]
  },
  {
   "cell_type": "code",
   "execution_count": 25,
   "metadata": {},
   "outputs": [
    {
     "data": {
      "text/plain": [
       "0.9421099209618847"
      ]
     },
     "execution_count": 25,
     "metadata": {},
     "output_type": "execute_result"
    }
   ],
   "source": [
    "# доля положительных примеров\n",
    "data.ACTION.mean()"
   ]
  },
  {
   "cell_type": "code",
   "execution_count": 27,
   "metadata": {},
   "outputs": [
    {
     "name": "stdout",
     "output_type": "stream",
     "text": [
      "ACTION 2\n",
      "RESOURCE 7518\n",
      "MGR_ID 4243\n",
      "ROLE_ROLLUP_1 128\n",
      "ROLE_ROLLUP_2 177\n",
      "ROLE_DEPTNAME 449\n",
      "ROLE_TITLE 343\n",
      "ROLE_FAMILY_DESC 2358\n",
      "ROLE_FAMILY 67\n",
      "ROLE_CODE 343\n"
     ]
    }
   ],
   "source": [
    "# число значений у признаков\n",
    "for col_name in data.columns:\n",
    "    print (col_name, len(data[col_name].unique()))"
   ]
  },
  {
   "cell_type": "code",
   "execution_count": 28,
   "metadata": {},
   "outputs": [],
   "source": [
    "from sklearn.cross_validation import train_test_split\n",
    "X_train, X_test, y_train, y_test = train_test_split(data.iloc[:, 1:], data.iloc[:, 0],\n",
    "                                                    test_size=0.3, random_state=241)"
   ]
  },
  {
   "cell_type": "markdown",
   "metadata": {},
   "source": [
    "#### 1. Реализуйте три функции расстояния на категориальных признаках, которые обсуждались на втором семинаре.\n",
    "\n",
    "Проще всего будет определить метрики как [user-defined distance](http://scikit-learn.org/stable/modules/generated/sklearn.neighbors.DistanceMetric.html), после чего воспользоваться реализацией kNN из sklearn (в этом случае используйте функцию predict_proba). Можно реализовать метод k ближайших соседей и самостоятально — в этом случае учитите, что он должен возвращать оценку вероятности, то есть отношение объектов первого класса среди соседей к числу соседей).\n",
    "\n",
    "Постарайтесь уделить особое внимание эффективности кода — при реализации метрик \"в лоб\" вы можете столкнуться с очень большим временем выполнения.\n",
    "\n",
    "#### Подсчитайте для каждой из метрик качество на тестовой выборке `X_test` при числе соседей $k = 10$. Мера качества — AUC-ROC.\n",
    "\n",
    "#### Какая функция расстояния оказалась лучшей?"
   ]
  },
  {
   "cell_type": "code",
   "execution_count": 56,
   "metadata": {},
   "outputs": [],
   "source": [
    "from sklearn.metrics import roc_auc_score\n",
    "from sklearn.neighbors import DistanceMetric\n",
    "from sklearn.neighbors import KNeighborsClassifier\n"
   ]
  },
  {
   "cell_type": "code",
   "execution_count": 31,
   "metadata": {},
   "outputs": [
    {
     "data": {
      "text/plain": [
       "0.5239873993707233"
      ]
     },
     "execution_count": 31,
     "metadata": {},
     "output_type": "execute_result"
    }
   ],
   "source": [
    "'''Manhattan dist'''\n",
    "manh = KNeighborsClassifier(n_neighbors = 10, metric = 'manhattan')\n",
    "manh.fit(X_train,y_train)\n",
    "y_true, y_pred = y_test, manh.predict(X_test)\n",
    "roc_auc_score(y_true, y_pred)"
   ]
  },
  {
   "cell_type": "code",
   "execution_count": 32,
   "metadata": {},
   "outputs": [
    {
     "data": {
      "text/plain": [
       "0.5176954413023741"
      ]
     },
     "execution_count": 32,
     "metadata": {},
     "output_type": "execute_result"
    }
   ],
   "source": [
    "'''Euclidean dist'''\n",
    "euc = KNeighborsClassifier(n_neighbors = 10, metric = 'euclidean')\n",
    "euc.fit(X_train,y_train)\n",
    "y_true, y_pred = y_test, euc.predict(X_test)\n",
    "roc_auc_score(y_true, y_pred)"
   ]
  },
  {
   "cell_type": "code",
   "execution_count": null,
   "metadata": {},
   "outputs": [],
   "source": []
  },
  {
   "cell_type": "code",
   "execution_count": null,
   "metadata": {},
   "outputs": [],
   "source": [
    "\n",
    "\n"
   ]
  },
  {
   "cell_type": "markdown",
   "metadata": {},
   "source": [
    "#### 2 (бонус). Подберите лучшее (на тестовой выборке) число соседей $k$ для каждой из функций расстояния. Какое наилучшее качество удалось получить?\n",
    "\n",
    "Для подбора можно использовать любые средства из sklearn."
   ]
  },
  {
   "cell_type": "code",
   "execution_count": null,
   "metadata": {},
   "outputs": [],
   "source": []
  },
  {
   "cell_type": "markdown",
   "metadata": {},
   "source": [
    "#### 3. Реализуйте счетчики (http://blogs.technet.com/b/machinelearning/archive/2015/02/17/big-learning-made-easy-with-counts.aspx), которые заменят категориальные признаки на вещественные.\n",
    "\n",
    "А именно, каждый категориальный признак нужно заменить на три: \n",
    "1. Число `counts` объектов в обучающей выборке с таким же значением признака.\n",
    "2. Число `successes` объектов первого класса ($y = 1$) в обучающей выборке с таким же значением признака.\n",
    "3. Сглаженное отношение двух предыдущих величин: (`successes` + 1) / (`counts` + 2).\n",
    "\n",
    "Поскольку признаки, содержащие информацию о целевой переменной, могут привести к переобучению, может оказаться полезным сделать *фолдинг*: разбить обучающую выборку на $n$ частей, и для $i$-й части считать `counts` и `successes` по всем остальным частям. Для тестовой выборки используются счетчики, посчитанные по всей обучающей выборке. Реализуйте и такой вариант. Можно использовать $n = 3$.\n",
    "\n",
    "#### Посчитайте на тесте AUC-ROC метода $k$ ближайших соседей с евклидовой метрикой для выборки, где категориальные признаки заменены на счетчики. Сравните по AUC-ROC два варианта формирования выборки — с фолдингом и без. Не забудьте подобрать наилучшее число соседей $k$."
   ]
  },
  {
   "cell_type": "code",
   "execution_count": null,
   "metadata": {},
   "outputs": [],
   "source": []
  },
  {
   "cell_type": "markdown",
   "metadata": {},
   "source": [
    "#### 4. Добавьте в исходную выборку парные признаки — то есть для каждой пары $(f_i, f_j)$, $i < j$ исходных категориальных признаков добавьте новый категориальный признак $f_{ij}$, значение которого является конкатенацией значений $f_i$ и $f_j$ (желательно через какой-нибудь специальный символ во избежание коллизий). Посчитайте счетчики для этой выборки, найдите качество метода $k$ ближайших соседей с наилучшим $k$ (с фолдингом и без)."
   ]
  },
  {
   "cell_type": "code",
   "execution_count": null,
   "metadata": {},
   "outputs": [],
   "source": []
  },
  {
   "cell_type": "markdown",
   "metadata": {},
   "source": [
    "## Часть 3: Решающие деревья и леса"
   ]
  },
  {
   "cell_type": "markdown",
   "metadata": {},
   "source": [
    "#### 1. Возьмите из предыдущей части выборку с парными признаками, преобразованную с помощью счетчиков без фолдинга. Настройте решающее дерево, подобрав оптимальные значения параметров `max_depth` и `min_samples_leaf`. Какой наилучший AUC-ROC на контроле удалось получить?"
   ]
  },
  {
   "cell_type": "code",
   "execution_count": null,
   "metadata": {},
   "outputs": [],
   "source": []
  },
  {
   "cell_type": "markdown",
   "metadata": {},
   "source": [
    "#### 2. Настройте случайный лес, подобрав такое число деревьев `n_estimators`, при котором ошибка выходит на асимптоту. Какое качество на тестовой выборке он дает?"
   ]
  },
  {
   "cell_type": "code",
   "execution_count": null,
   "metadata": {},
   "outputs": [],
   "source": []
  },
  {
   "cell_type": "markdown",
   "metadata": {},
   "source": [
    "#### 3. Возьмите выборку с парными признаками, для которой счетчики посчитаны с фолдингом. Обучите на ней случайный лес, подобрав число деревьев. Какое качество на тестовой выборке он дает? Чем вы можете объяснить изменение результата по сравнению с предыдущим пунктом?"
   ]
  },
  {
   "cell_type": "code",
   "execution_count": null,
   "metadata": {},
   "outputs": [],
   "source": []
  },
  {
   "cell_type": "code",
   "execution_count": null,
   "metadata": {},
   "outputs": [],
   "source": []
  },
  {
   "cell_type": "markdown",
   "metadata": {},
   "source": [
    "Здесь вы можете поделиться своими мыслями о задании."
   ]
  },
  {
   "cell_type": "code",
   "execution_count": null,
   "metadata": {},
   "outputs": [],
   "source": []
  },
  {
   "cell_type": "markdown",
   "metadata": {},
   "source": [
    "А здесь вставьте смешную картинку."
   ]
  },
  {
   "cell_type": "code",
   "execution_count": null,
   "metadata": {},
   "outputs": [],
   "source": []
  },
  {
   "cell_type": "markdown",
   "metadata": {},
   "source": [
    "А здесь посоветуйте преподавателям хороший фильм или сериал."
   ]
  },
  {
   "cell_type": "code",
   "execution_count": null,
   "metadata": {},
   "outputs": [],
   "source": []
  }
 ],
 "metadata": {
  "anaconda-cloud": {},
  "kernelspec": {
   "display_name": "Python 3",
   "language": "python",
   "name": "python3"
  },
  "language_info": {
   "codemirror_mode": {
    "name": "ipython",
    "version": 3
   },
   "file_extension": ".py",
   "mimetype": "text/x-python",
   "name": "python",
   "nbconvert_exporter": "python",
   "pygments_lexer": "ipython3",
   "version": "3.6.5"
  }
 },
 "nbformat": 4,
 "nbformat_minor": 1
}
