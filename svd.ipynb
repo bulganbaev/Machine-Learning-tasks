{
 "cells": [
  {
   "cell_type": "code",
   "execution_count": 47,
   "metadata": {},
   "outputs": [],
   "source": [
    "import numpy as np\n",
    "from scipy import linalg"
   ]
  },
  {
   "cell_type": "code",
   "execution_count": 48,
   "metadata": {},
   "outputs": [
    {
     "name": "stdout",
     "output_type": "stream",
     "text": [
      "4\n"
     ]
    },
    {
     "data": {
      "text/plain": [
       "array([[0.99866173, 0.77299736, 0.34522007, 0.59453702],\n",
       "       [0.03414945, 0.47138651, 0.45855338, 0.1303412 ],\n",
       "       [0.91675438, 0.78159952, 0.42586755, 0.01035795],\n",
       "       [0.53741543, 0.09008876, 0.25887892, 0.03140827]])"
      ]
     },
     "execution_count": 48,
     "metadata": {},
     "output_type": "execute_result"
    }
   ],
   "source": [
    "n = int(input())\n",
    "A = np.random.rand(n, n)\n",
    "A"
   ]
  },
  {
   "cell_type": "code",
   "execution_count": 55,
   "metadata": {},
   "outputs": [],
   "source": [
    "At = A.transpose()\n",
    "A_At = A.dot(At)"
   ]
  },
  {
   "cell_type": "code",
   "execution_count": 56,
   "metadata": {},
   "outputs": [
    {
     "data": {
      "text/plain": [
       "array([[ 0.69945811,  0.20901909,  0.68330273, -0.01291279],\n",
       "       [ 0.24029819, -0.91228308,  0.03930688,  0.32931949],\n",
       "       [ 0.62000904, -0.03046094, -0.63406401, -0.46111142],\n",
       "       [ 0.26192348,  0.35088849, -0.35988216,  0.82386782]])"
      ]
     },
     "execution_count": 56,
     "metadata": {},
     "output_type": "execute_result"
    }
   ],
   "source": [
    "U, S = linalg.eig(A_At)\n",
    "S"
   ]
  },
  {
   "cell_type": "code",
   "execution_count": 57,
   "metadata": {},
   "outputs": [],
   "source": [
    "S = np.diag(np.sqrt(U))\n",
    "V = At.dot(U).dot(linalg.inv(S))"
   ]
  },
  {
   "cell_type": "code",
   "execution_count": 58,
   "metadata": {},
   "outputs": [],
   "source": [
    "Vt = V.transpose()\n",
    "USVt = U.dot(S).dot(Vt)"
   ]
  },
  {
   "cell_type": "code",
   "execution_count": 59,
   "metadata": {},
   "outputs": [
    {
     "data": {
      "text/plain": [
       "(18.321553798001776+0j)"
      ]
     },
     "execution_count": 59,
     "metadata": {},
     "output_type": "execute_result"
    }
   ],
   "source": [
    "USVt"
   ]
  }
 ],
 "metadata": {
  "kernelspec": {
   "display_name": "Python 3",
   "language": "python",
   "name": "python3"
  },
  "language_info": {
   "codemirror_mode": {
    "name": "ipython",
    "version": 3
   },
   "file_extension": ".py",
   "mimetype": "text/x-python",
   "name": "python",
   "nbconvert_exporter": "python",
   "pygments_lexer": "ipython3",
   "version": "3.6.5"
  }
 },
 "nbformat": 4,
 "nbformat_minor": 2
}
